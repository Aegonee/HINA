{
 "cells": [
  {
   "cell_type": "code",
   "execution_count": 1,
   "metadata": {},
   "outputs": [],
   "source": [
    "# 2024.3.26 created by: An Chang\n",
    "\n",
    "from src.base.Frame import Frame, FrameSeries\n",
    "from src.base.physics import Acc, Vel, Disp, Dimension, Timestamp\n",
    "from src.common.math_utils import MergeInterval\n",
    "from src.common.dataloader import Loader, Parser\n",
    "from src.lib import swarm_optim as so\n",
    "import pandas\n",
    "import numpy as np"
   ]
  },
  {
   "cell_type": "code",
   "execution_count": 18,
   "metadata": {},
   "outputs": [
    {
     "name": "stdout",
     "output_type": "stream",
     "text": [
      "['Instrument Name', 'TBLB Master span ', 'TBLB Long Reference ', 'TBLB Lat Reference ', 'TBLB Yaw Reference ', 'TBLB TBLA Long Reference', 'TBLB TBLA Lat Reference', 'TBLB TBLA Yaw Reference', 'TBLB TBLC Long Reference', 'TBLB TBLC Lat Reference', 'TBLB TBLC Yaw Reference', 'TBLB TBLD Long Reference', 'TBLB TBLD Lat Reference', 'TBLB TBLD Yaw Reference', 'TBLB Long Displacement fbk', 'TBLB Lat Displacement fbk', 'TBLB Yaw Displacement fbk', 'TBLB Long Velocity fbk', 'TBLB Lat Velocity fbk', 'TBLB Yaw Velocity fbk', 'TBLB Long Acceleration fbk', 'TBLB Lat Acceleration fbk', 'TBLB Yaw Acceleration fbk', 'TBLB Long Force fbk', 'TBLB Lat Force fbk', 'TBLB Yaw Force fbk', 'TBLB Main Pressure fbk', 'T1-1-AX', 'T1-1-AY', 'T1-2-AY', 'T1-3-AX', 'T1-3-AY', 'T1-4-AX', 'T1-4-AY', 'T1-5-AX', 'T1-5-AY', 'T2-1-AX', 'T2-1-AY', 'T2-2-AY', 'T2-3-AX', 'T2-3-AY', 'T2-4-AX', 'T2-4-AY', 'T2-5-AX', 'T2-5-AY', 'P1-AX', 'P1-AY', 'P2-AX', 'P2-AY', 'RDX-1', 'RDY-1', 'RDX-3', 'RDY-3', 'RDY-11', 'RDX-11', 'RDX-13', 'RDY-13', 'T1-1', 'T1-1-1', 'T1-2', 'T1-2-1', 'T1-3', 'T1-3-1', 'T1-4', 'T1-4-1', 'T1-5', 'T1-5-1', 'T1-6', 'T1-6-1', 'T1-7', 'T1-7-1', 'T1-8', 'T1-8-1', 'T1-9', 'T1-9-1', 'T1-10', 'T1-11', 'T1-11-1', 'T1-12-1']\n",
      "0         0.000000\n",
      "1         0.003906\n",
      "2         0.007812\n",
      "3         0.011719\n",
      "4         0.015625\n",
      "           ...    \n",
      "15723    61.417969\n",
      "15724    61.421875\n",
      "15725    61.425781\n",
      "15726    61.429688\n",
      "15727    61.433594\n",
      "Name: Instrument Name, Length: 15728, dtype: float64\n",
      "0        0.000000e+00\n",
      "1       -2.200000e-07\n",
      "2       -2.570000e-06\n",
      "3       -1.248000e-05\n",
      "4       -3.629000e-05\n",
      "             ...     \n",
      "15723    0.000000e+00\n",
      "15724    0.000000e+00\n",
      "15725    0.000000e+00\n",
      "15726    0.000000e+00\n",
      "15727    0.000000e+00\n",
      "Name: TBLB Lat Reference , Length: 15728, dtype: float64\n"
     ]
    }
   ],
   "source": [
    "# if __name__ == \"__main__\":\n",
    "path = \"./data/\"\n",
    "csv_name = \"data.csv\"\n",
    "\n",
    "readf = pandas.read_csv(path + csv_name)\n",
    "\n",
    "headers = readf.columns.tolist()\n",
    "print(headers)  \n",
    "# type(readf)\n",
    "# print(readf[\"TBLA Lat Reference \"])\n",
    "time = readf[\"Instrument Name\"]\n",
    "print(time)\n",
    "\n",
    "excitation = readf[\"TBLB Lat Reference \"]\n",
    "print(excitation)\n",
    "\n",
    "\n",
    "\n",
    "zeta, omega = 0.0, 0.0"
   ]
  },
  {
   "cell_type": "code",
   "execution_count": null,
   "metadata": {},
   "outputs": [],
   "source": [
    "calc_instance = so.SwarmOptim(dimension = 1)\n",
    "calc_instance.Init()\n"
   ]
  }
 ],
 "metadata": {
  "kernelspec": {
   "display_name": "base",
   "language": "python",
   "name": "python3"
  },
  "language_info": {
   "codemirror_mode": {
    "name": "ipython",
    "version": 3
   },
   "file_extension": ".py",
   "mimetype": "text/x-python",
   "name": "python",
   "nbconvert_exporter": "python",
   "pygments_lexer": "ipython3",
   "version": "3.11.5"
  }
 },
 "nbformat": 4,
 "nbformat_minor": 2
}
